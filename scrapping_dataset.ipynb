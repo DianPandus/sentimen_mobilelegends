{
 "cells": [
  {
   "cell_type": "code",
   "execution_count": 5,
   "id": "ba0c9978",
   "metadata": {},
   "outputs": [],
   "source": [
    "import csv\n",
    "from google_play_scraper import reviews_all\n",
    "import pandas as pd"
   ]
  },
  {
   "cell_type": "markdown",
   "id": "51b4d1bf",
   "metadata": {},
   "source": [
    "### Scrapping dari Playstore"
   ]
  },
  {
   "cell_type": "code",
   "execution_count": 6,
   "id": "8b09eeb3",
   "metadata": {},
   "outputs": [
    {
     "name": "stdout",
     "output_type": "stream",
     "text": [
      "Mulai scraping data ulasan. Proses ini mungkin memerlukan waktu beberapa menit...\n",
      "Scraping selesai. Total ulasan yang diambil: 243000\n"
     ]
    }
   ],
   "source": [
    "# Mendefinisikan id aplikasi Mobile Legends Bang Bang\n",
    "app_id = 'com.mobile.legends'\n",
    "\n",
    "# Mengambil seluruh ulasan (dengan parameter bahasa dan negara yang disesuaikan)\n",
    "print(\"Mulai scraping data ulasan. Proses ini mungkin memerlukan waktu beberapa menit...\")\n",
    "reviews = reviews_all(\n",
    "    app_id,\n",
    "    lang='id',      # Bahasa Indonesia\n",
    "    country='id'    # Negara Indonesia\n",
    ")\n",
    "print(\"Scraping selesai. Total ulasan yang diambil:\", len(reviews))\n"
   ]
  },
  {
   "cell_type": "markdown",
   "id": "02d7ebc8",
   "metadata": {},
   "source": [
    "### Menyimpan dataset"
   ]
  },
  {
   "cell_type": "code",
   "execution_count": 7,
   "id": "c424b697",
   "metadata": {},
   "outputs": [
    {
     "name": "stdout",
     "output_type": "stream",
     "text": [
      "DataFrame berukuran: (243000, 11)\n"
     ]
    }
   ],
   "source": [
    "# Konversi list of dict ke DataFrame\n",
    "df = pd.DataFrame(reviews)\n",
    "\n",
    "print(\"DataFrame berukuran:\", df.shape)\n",
    "\n",
    "\n",
    "with open('ulasan_aplikasi.csv', mode='w', newline='', encoding='utf-8') as file:\n",
    "    writer = csv.writer(file)\n",
    "    writer.writerow(['Review'])  # Menulis header kolom\n",
    "    for review in reviews:\n",
    "        writer.writerow([review['content']])  # Menulis konten ulasan ke dalam file CSV"
   ]
  },
  {
   "cell_type": "code",
   "execution_count": null,
   "id": "92a9b853",
   "metadata": {},
   "outputs": [
    {
     "ename": "",
     "evalue": "",
     "output_type": "error",
     "traceback": [
      "\u001b[1;31mThe Kernel crashed while executing code in the current cell or a previous cell. \n",
      "\u001b[1;31mPlease review the code in the cell(s) to identify a possible cause of the failure. \n",
      "\u001b[1;31mClick <a href='https://aka.ms/vscodeJupyterKernelCrash'>here</a> for more info. \n",
      "\u001b[1;31mView Jupyter <a href='command:jupyter.viewOutput'>log</a> for further details."
     ]
    }
   ],
   "source": [
    "app_reviews_df = pd.DataFrame(reviews)\n",
    "app_reviews_df.shape\n",
    "app_reviews_df.to_csv('ulasan_aplikasi.csv', index=False)\n",
    " \n",
    "# Membuat DataFrame dari hasil scrapreview\n",
    "app_reviews_df = pd.DataFrame(reviews)\n",
    " \n",
    "# Menghitung jumlah baris dan kolom dalam DataFrame\n",
    "jumlah_ulasan, jumlah_kolom = app_reviews_df.shape"
   ]
  }
 ],
 "metadata": {
  "kernelspec": {
   "display_name": "base",
   "language": "python",
   "name": "python3"
  },
  "language_info": {
   "codemirror_mode": {
    "name": "ipython",
    "version": 3
   },
   "file_extension": ".py",
   "mimetype": "text/x-python",
   "name": "python",
   "nbconvert_exporter": "python",
   "pygments_lexer": "ipython3",
   "version": "3.10.13"
  }
 },
 "nbformat": 4,
 "nbformat_minor": 5
}
